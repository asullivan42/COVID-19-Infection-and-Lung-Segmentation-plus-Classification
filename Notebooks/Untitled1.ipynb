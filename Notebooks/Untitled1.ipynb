{
 "cells": [
  {
   "cell_type": "markdown",
   "id": "40aebe8e-3493-4efd-9c45-fed9f47c7e6f",
   "metadata": {},
   "source": [
    "# Definitions of repeated functions in cts"
   ]
  },
  {
   "cell_type": "code",
   "execution_count": null,
   "id": "4b527ab6-c84d-4f3f-97b1-75588faa9c6a",
   "metadata": {},
   "outputs": [],
   "source": [
    "# Making a def of the cleaning and cropping function I'm often using on the images\n",
    "def clean_and_crop(array,string='cts'):\n",
    "    ''' CLAHE and Crop images.  String should be lungs, infection, cts to make sure crop the image correctly'''\n",
    "    new_array=[]\n",
    "    if string =='lungs':\n",
    "\n",
    "        for img_no in range(len(array)):\n",
    "            lung_img = array[img_no]\n",
    "            lung_img[lung_img>0]=1\n",
    "            cropped_lung, points1, points2 = cropper(lung_img, demo = 0)\n",
    "            new_array.append(cropped_lung)\n",
    "        return new_array\n",
    "    \n",
    "    elif string='cts':\n",
    "        for img_no in range(len(array)):\n",
    "            #CLAHE the CT image\n",
    "            cts_img = array[img_no]\n",
    "            cts_img = clahe_enhancer(cts_img, demo = 0)\n",
    "            # Crop the CT image to the Lung Mask\n",
    "            a,b,c,d = points1[0], points1[1], points1[2], points1[3]\n",
    "            e,f,g,h = points2[0], points2[1], points2[2], points2[3]\n",
    "            img1 = cts_img[b:b+d, a:a+c]\n",
    "            img1 = cv2.resize(img1, dsize=(125,250), interpolation=cv2.INTER_AREA)\n",
    "            img2 = cts_img[f:f+h, e:e+g]\n",
    "            img2 = cv2.resize(img2, dsize=(125,250), interpolation=cv2.INTER_AREA)\n",
    "            cropped_cts = np.concatenate((img1, img2), axis=1)\n",
    "            new_array.append(cropped_cts)\n",
    "        return new_array\n",
    "    \n",
    "    else:\n",
    "        for img_no in range(len(array)):\n",
    "            #Load the Infection Mask\n",
    "            infections_img = array[img_no]\n",
    "            #Crop the Infection Mask to the Lung Mask\n",
    "            a,b,c,d = points1[0], points1[1], points1[2], points1[3]\n",
    "            e,f,g,h = points2[0], points2[1], points2[2], points2[3]\n",
    "            img1 = infections_img[b:b+d, a:a+c]\n",
    "            img1 = cv2.resize(img1, dsize=(125,250), interpolation=cv2.INTER_AREA)\n",
    "            img2 = infections_img[f:f+h, e:e+g]\n",
    "            img2 = cv2.resize(img2, dsize=(125,250), interpolation=cv2.INTER_AREA)\n",
    "            cropped_infections = np.concatenate((img1, img2), axis=1)\n",
    "            new_array.append(cropped_infections)\n",
    "        return new_array\n",
    "    "
   ]
  },
  {
   "cell_type": "code",
   "execution_count": null,
   "id": "c3b11c05-6e19-41ea-808e-1921c611156e",
   "metadata": {},
   "outputs": [],
   "source": [
    "# Used median of the all width and height but couldn't fit the RAM so reduced the size to 224, \n",
    "# though images with larger resolution with more clear features will possibly give better results on the same model.\n",
    "# Lets take a look at these and images and see what we have\n",
    "def new_dim(array, new_dim=244):\n",
    "    '''\n",
    "    Rescales image array to new dimentions to have all images be the same dimensions.\n",
    "    This can help with issues of images being too large to process due to lack of RAM\n",
    "    '''\n",
    "\n",
    "    for i in range(0,len(array)):\n",
    "        array[i] = cv2.resize(cts[i], dsize=(new_dim, new_dim), interpolation=cv2.INTER_LINEAR)\n",
    "      # array[i] = array[i]/255\n",
    "    return array"
   ]
  },
  {
   "cell_type": "code",
   "execution_count": null,
   "id": "41cd0e9a-a713-4ce4-a2b4-467c89a1d1fd",
   "metadata": {},
   "outputs": [],
   "source": [
    "# Saving the numpy arrays to later reuse the same preprocessing for other models \n",
    "# rather than doing it again and again.\n",
    "def image_to_array(image)\n",
    "''' Converts image list to 8 bit interger array'''\n",
    "    image = np.array(image)\n",
    "    image = np.uint8(image)\n",
    "    \n",
    "    return image\n"
   ]
  }
 ],
 "metadata": {
  "kernelspec": {
   "display_name": "Python 3 (ipykernel)",
   "language": "python",
   "name": "python3"
  },
  "language_info": {
   "codemirror_mode": {
    "name": "ipython",
    "version": 3
   },
   "file_extension": ".py",
   "mimetype": "text/x-python",
   "name": "python",
   "nbconvert_exporter": "python",
   "pygments_lexer": "ipython3",
   "version": "3.7.13"
  }
 },
 "nbformat": 4,
 "nbformat_minor": 5
}
